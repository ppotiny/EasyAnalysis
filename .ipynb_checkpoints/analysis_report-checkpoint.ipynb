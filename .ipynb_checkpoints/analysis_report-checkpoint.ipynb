{
 "cells": [
  {
   "cell_type": "code",
   "execution_count": 1,
   "metadata": {
    "collapsed": false
   },
   "outputs": [
    {
     "name": "stdout",
     "output_type": "stream",
     "text": [
      "Connecting to database...\n"
     ]
    },
    {
     "data": {
      "text/html": [
       "<div style=\"max-height:1000px;max-width:1500px;overflow:auto;\">\n",
       "<table border=\"1\" class=\"dataframe\">\n",
       "  <thead>\n",
       "    <tr style=\"text-align: right;\">\n",
       "      <th></th>\n",
       "      <th>report_date</th>\n",
       "      <th>location</th>\n",
       "      <th>location_type</th>\n",
       "      <th>data_field</th>\n",
       "      <th>data_field_code</th>\n",
       "      <th>time_period</th>\n",
       "      <th>time_period_type</th>\n",
       "      <th>value</th>\n",
       "      <th>unit</th>\n",
       "    </tr>\n",
       "  </thead>\n",
       "  <tbody>\n",
       "    <tr>\n",
       "      <th>0</th>\n",
       "      <td> 2016-03-19</td>\n",
       "      <td> Argentina-Buenos_Aires</td>\n",
       "      <td> province</td>\n",
       "      <td>    cumulative_confirmed_local_cases</td>\n",
       "      <td> AR0001</td>\n",
       "      <td> NA</td>\n",
       "      <td> NA</td>\n",
       "      <td>   0</td>\n",
       "      <td> cases</td>\n",
       "    </tr>\n",
       "    <tr>\n",
       "      <th>1</th>\n",
       "      <td> 2016-03-19</td>\n",
       "      <td> Argentina-Buenos_Aires</td>\n",
       "      <td> province</td>\n",
       "      <td>     cumulative_probable_local_cases</td>\n",
       "      <td> AR0002</td>\n",
       "      <td> NA</td>\n",
       "      <td> NA</td>\n",
       "      <td>   0</td>\n",
       "      <td> cases</td>\n",
       "    </tr>\n",
       "    <tr>\n",
       "      <th>2</th>\n",
       "      <td> 2016-03-19</td>\n",
       "      <td> Argentina-Buenos_Aires</td>\n",
       "      <td> province</td>\n",
       "      <td> cumulative_confirmed_imported_cases</td>\n",
       "      <td> AR0003</td>\n",
       "      <td> NA</td>\n",
       "      <td> NA</td>\n",
       "      <td>   2</td>\n",
       "      <td> cases</td>\n",
       "    </tr>\n",
       "    <tr>\n",
       "      <th>3</th>\n",
       "      <td> 2016-03-19</td>\n",
       "      <td> Argentina-Buenos_Aires</td>\n",
       "      <td> province</td>\n",
       "      <td>  cumulative_probable_imported_cases</td>\n",
       "      <td> AR0004</td>\n",
       "      <td> NA</td>\n",
       "      <td> NA</td>\n",
       "      <td>   1</td>\n",
       "      <td> cases</td>\n",
       "    </tr>\n",
       "    <tr>\n",
       "      <th>4</th>\n",
       "      <td> 2016-03-19</td>\n",
       "      <td> Argentina-Buenos_Aires</td>\n",
       "      <td> province</td>\n",
       "      <td>        cumulative_cases_under_study</td>\n",
       "      <td> AR0005</td>\n",
       "      <td> NA</td>\n",
       "      <td> NA</td>\n",
       "      <td> 127</td>\n",
       "      <td> cases</td>\n",
       "    </tr>\n",
       "  </tbody>\n",
       "</table>\n",
       "<p>5 rows × 9 columns</p>\n",
       "</div>"
      ],
      "text/plain": [
       "  report_date                location location_type  \\\n",
       "0  2016-03-19  Argentina-Buenos_Aires      province   \n",
       "1  2016-03-19  Argentina-Buenos_Aires      province   \n",
       "2  2016-03-19  Argentina-Buenos_Aires      province   \n",
       "3  2016-03-19  Argentina-Buenos_Aires      province   \n",
       "4  2016-03-19  Argentina-Buenos_Aires      province   \n",
       "\n",
       "                            data_field data_field_code time_period  \\\n",
       "0     cumulative_confirmed_local_cases          AR0001          NA   \n",
       "1      cumulative_probable_local_cases          AR0002          NA   \n",
       "2  cumulative_confirmed_imported_cases          AR0003          NA   \n",
       "3   cumulative_probable_imported_cases          AR0004          NA   \n",
       "4         cumulative_cases_under_study          AR0005          NA   \n",
       "\n",
       "  time_period_type  value   unit  \n",
       "0               NA      0  cases  \n",
       "1               NA      0  cases  \n",
       "2               NA      2  cases  \n",
       "3               NA      1  cases  \n",
       "4               NA    127  cases  \n",
       "\n",
       "[5 rows x 9 columns]"
      ]
     },
     "execution_count": 1,
     "metadata": {},
     "output_type": "execute_result"
    }
   ],
   "source": [
    "import MySQLdb as mys\n",
    "import pandas as pd\n",
    "\n",
    "print \"Connecting to database...\"\n",
    "db = mys.connect(host='localhost', user='root', db=\"praneetha_example\")\n",
    "\n",
    "df = pd.read_sql('SELECT * FROM zikachart', db)\n",
    "\n",
    "df.head()"
   ]
  },
  {
   "cell_type": "code",
   "execution_count": 2,
   "metadata": {
    "collapsed": false
   },
   "outputs": [
    {
     "data": {
      "text/html": [
       "<div style=\"max-height:1000px;max-width:1500px;overflow:auto;\">\n",
       "<table border=\"1\" class=\"dataframe\">\n",
       "  <thead>\n",
       "    <tr style=\"text-align: right;\">\n",
       "      <th></th>\n",
       "      <th>report_date</th>\n",
       "      <th>location</th>\n",
       "      <th>data_field_code</th>\n",
       "      <th>value</th>\n",
       "    </tr>\n",
       "  </thead>\n",
       "  <tbody>\n",
       "    <tr>\n",
       "      <th>0</th>\n",
       "      <td> 2016-06-26</td>\n",
       "      <td> Argentina-Buenos_Aires</td>\n",
       "      <td> AR0001</td>\n",
       "      <td>   0</td>\n",
       "    </tr>\n",
       "    <tr>\n",
       "      <th>1</th>\n",
       "      <td> 2016-06-26</td>\n",
       "      <td> Argentina-Buenos_Aires</td>\n",
       "      <td> AR0002</td>\n",
       "      <td>   0</td>\n",
       "    </tr>\n",
       "    <tr>\n",
       "      <th>2</th>\n",
       "      <td> 2016-06-26</td>\n",
       "      <td> Argentina-Buenos_Aires</td>\n",
       "      <td> AR0003</td>\n",
       "      <td>   2</td>\n",
       "    </tr>\n",
       "    <tr>\n",
       "      <th>3</th>\n",
       "      <td> 2016-06-26</td>\n",
       "      <td> Argentina-Buenos_Aires</td>\n",
       "      <td> AR0004</td>\n",
       "      <td>   2</td>\n",
       "    </tr>\n",
       "    <tr>\n",
       "      <th>4</th>\n",
       "      <td> 2016-06-26</td>\n",
       "      <td> Argentina-Buenos_Aires</td>\n",
       "      <td> AR0005</td>\n",
       "      <td> 223</td>\n",
       "    </tr>\n",
       "  </tbody>\n",
       "</table>\n",
       "<p>5 rows × 4 columns</p>\n",
       "</div>"
      ],
      "text/plain": [
       "  report_date                location data_field_code  value\n",
       "0  2016-06-26  Argentina-Buenos_Aires          AR0001      0\n",
       "1  2016-06-26  Argentina-Buenos_Aires          AR0002      0\n",
       "2  2016-06-26  Argentina-Buenos_Aires          AR0003      2\n",
       "3  2016-06-26  Argentina-Buenos_Aires          AR0004      2\n",
       "4  2016-06-26  Argentina-Buenos_Aires          AR0005    223\n",
       "\n",
       "[5 rows x 4 columns]"
      ]
     },
     "execution_count": 2,
     "metadata": {},
     "output_type": "execute_result"
    }
   ],
   "source": [
    "max_date = \"\"\"SELECT report_date, location, data_field_code, value FROM zikachart \n",
    "WHERE (report_date, location) IN (SELECT MAX(report_date), location FROM zikachart GROUP BY location)\"\"\"\n",
    "\n",
    "df2 = pd.read_sql(max_date, db)\n",
    "\n",
    "df2.head()"
   ]
  },
  {
   "cell_type": "code",
   "execution_count": 3,
   "metadata": {
    "collapsed": false
   },
   "outputs": [
    {
     "name": "stdout",
     "output_type": "stream",
     "text": [
      "Reading SQL statement...\n"
     ]
    },
    {
     "data": {
      "text/html": [
       "<div style=\"max-height:1000px;max-width:1500px;overflow:auto;\">\n",
       "<table border=\"1\" class=\"dataframe\">\n",
       "  <thead>\n",
       "    <tr style=\"text-align: right;\">\n",
       "      <th></th>\n",
       "      <th>report_date</th>\n",
       "      <th>location</th>\n",
       "      <th>data_field_code</th>\n",
       "      <th>value</th>\n",
       "    </tr>\n",
       "  </thead>\n",
       "  <tbody>\n",
       "    <tr>\n",
       "      <th>0 </th>\n",
       "      <td> 2016-06-26</td>\n",
       "      <td> Argentina-Buenos_Aires</td>\n",
       "      <td> AR0001</td>\n",
       "      <td> 0</td>\n",
       "    </tr>\n",
       "    <tr>\n",
       "      <th>24</th>\n",
       "      <td> 2016-06-26</td>\n",
       "      <td> Argentina-Buenos_Aires</td>\n",
       "      <td> AR0003</td>\n",
       "      <td> 2</td>\n",
       "    </tr>\n",
       "  </tbody>\n",
       "</table>\n",
       "<p>2 rows × 4 columns</p>\n",
       "</div>"
      ],
      "text/plain": [
       "   report_date                location data_field_code  value\n",
       "0   2016-06-26  Argentina-Buenos_Aires          AR0001      0\n",
       "24  2016-06-26  Argentina-Buenos_Aires          AR0003      2\n",
       "\n",
       "[2 rows x 4 columns]"
      ]
     },
     "execution_count": 3,
     "metadata": {},
     "output_type": "execute_result"
    }
   ],
   "source": [
    "confirmed_codes = open('ConfirmedZikaCodes.txt', 'r')\n",
    "country_values = {'Argentina': 0, 'Colombia': 0, 'Dominican_Republic': 0, 'Ecuador': 0, \\\n",
    "                  'El_Salvador': 0, 'Guatemala': 0, 'Mexico': 0, 'Nicaragua': 0, 'Panama': 0, \\\n",
    "                  'Puerto_Rico': 0, 'USVI': 0, 'United_States': 0}\n",
    "\n",
    "conf_df = \"\"\"(SELECT report_date, location, data_field_code, value FROM (\"\"\" + max_date + \"\"\") \n",
    "AS max_date WHERE 1=0)\"\"\"\n",
    "\n",
    "for line in confirmed_codes:\n",
    "    country, other = line.split('=')\n",
    "    if ':' in other:\n",
    "        codes = other.split(':')[0].split(',')\n",
    "        for c in codes:\n",
    "            conf_df = conf_df + \"\"\" UNION (SELECT report_date, location, data_field_code, value \n",
    "            FROM (\"\"\" + max_date + \"\"\") AS max_date WHERE data_field_code = '\"\"\" + c.strip() + \"\"\"' \n",
    "            GROUP BY location)\"\"\"\n",
    "    else:\n",
    "        if ',' in other: codes = other.split(',') \n",
    "        else: codes = [other]\n",
    "        for c in codes:\n",
    "            conf_df = conf_df + \"\"\" UNION (SELECT report_date, location, data_field_code, value \n",
    "            FROM (\"\"\" + max_date + \"\"\") AS max_date WHERE data_field_code = '\"\"\" + c.strip() + \"\"\"' \n",
    "            AND location = '\"\"\" + country + \"\"\"')\"\"\"\n",
    "            \n",
    "print \"Reading SQL statement...\"\n",
    "conf_pd = pd.read_sql(conf_df, db)\n",
    "\n",
    "conf_pd.loc[conf_pd['location'] == 'Argentina-Buenos_Aires'].head()"
   ]
  },
  {
   "cell_type": "code",
   "execution_count": null,
   "metadata": {
    "collapsed": true
   },
   "outputs": [],
   "source": []
  }
 ],
 "metadata": {
  "kernelspec": {
   "display_name": "Python 2",
   "language": "python",
   "name": "python2"
  },
  "language_info": {
   "codemirror_mode": {
    "name": "ipython",
    "version": 2
   },
   "file_extension": ".py",
   "mimetype": "text/x-python",
   "name": "python",
   "nbconvert_exporter": "python",
   "pygments_lexer": "ipython2",
   "version": "2.7.9"
  }
 },
 "nbformat": 4,
 "nbformat_minor": 0
}
