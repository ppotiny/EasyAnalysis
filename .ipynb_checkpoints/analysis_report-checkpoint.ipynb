{
 "cells": [
  {
   "cell_type": "code",
   "execution_count": 5,
   "metadata": {
    "collapsed": false
   },
   "outputs": [
    {
     "name": "stdout",
     "output_type": "stream",
     "text": [
      "Connected to database\n"
     ]
    },
    {
     "data": {
      "text/html": [
       "<div style=\"max-height:1000px;max-width:1500px;overflow:auto;\">\n",
       "<table border=\"1\" class=\"dataframe\">\n",
       "  <thead>\n",
       "    <tr style=\"text-align: right;\">\n",
       "      <th></th>\n",
       "      <th>report_date</th>\n",
       "      <th>location</th>\n",
       "      <th>location_type</th>\n",
       "      <th>data_field</th>\n",
       "      <th>data_field_code</th>\n",
       "      <th>time_period</th>\n",
       "      <th>time_period_type</th>\n",
       "      <th>value</th>\n",
       "      <th>unit</th>\n",
       "    </tr>\n",
       "  </thead>\n",
       "  <tbody>\n",
       "    <tr>\n",
       "      <th>101281</th>\n",
       "      <td> 2015-11-28</td>\n",
       "      <td> Mexico-Michoacan_de_Ocampo</td>\n",
       "      <td> state</td>\n",
       "      <td> yearly_cumulative_female</td>\n",
       "      <td> MX0002</td>\n",
       "      <td> NA</td>\n",
       "      <td> NA</td>\n",
       "      <td> 0</td>\n",
       "      <td> cases</td>\n",
       "    </tr>\n",
       "    <tr>\n",
       "      <th>101235</th>\n",
       "      <td> 2015-11-28</td>\n",
       "      <td>     Mexico-Baja_California</td>\n",
       "      <td> state</td>\n",
       "      <td>    weekly_zika_confirmed</td>\n",
       "      <td> MX0001</td>\n",
       "      <td> NA</td>\n",
       "      <td> NA</td>\n",
       "      <td> 0</td>\n",
       "      <td> cases</td>\n",
       "    </tr>\n",
       "    <tr>\n",
       "      <th>101236</th>\n",
       "      <td> 2015-11-28</td>\n",
       "      <td> Mexico-Baja_California_Sur</td>\n",
       "      <td> state</td>\n",
       "      <td>    weekly_zika_confirmed</td>\n",
       "      <td> MX0001</td>\n",
       "      <td> NA</td>\n",
       "      <td> NA</td>\n",
       "      <td> 0</td>\n",
       "      <td> cases</td>\n",
       "    </tr>\n",
       "    <tr>\n",
       "      <th>101237</th>\n",
       "      <td> 2015-11-28</td>\n",
       "      <td>            Mexico-Campeche</td>\n",
       "      <td> state</td>\n",
       "      <td>    weekly_zika_confirmed</td>\n",
       "      <td> MX0001</td>\n",
       "      <td> NA</td>\n",
       "      <td> NA</td>\n",
       "      <td> 0</td>\n",
       "      <td> cases</td>\n",
       "    </tr>\n",
       "    <tr>\n",
       "      <th>101238</th>\n",
       "      <td> 2015-11-28</td>\n",
       "      <td>             Mexico-Chiapas</td>\n",
       "      <td> state</td>\n",
       "      <td>    weekly_zika_confirmed</td>\n",
       "      <td> MX0001</td>\n",
       "      <td> NA</td>\n",
       "      <td> NA</td>\n",
       "      <td> 1</td>\n",
       "      <td> cases</td>\n",
       "    </tr>\n",
       "  </tbody>\n",
       "</table>\n",
       "<p>5 rows × 9 columns</p>\n",
       "</div>"
      ],
      "text/plain": [
       "       report_date                    location location_type  \\\n",
       "101281  2015-11-28  Mexico-Michoacan_de_Ocampo         state   \n",
       "101235  2015-11-28      Mexico-Baja_California         state   \n",
       "101236  2015-11-28  Mexico-Baja_California_Sur         state   \n",
       "101237  2015-11-28             Mexico-Campeche         state   \n",
       "101238  2015-11-28              Mexico-Chiapas         state   \n",
       "\n",
       "                      data_field data_field_code time_period time_period_type  \\\n",
       "101281  yearly_cumulative_female          MX0002          NA               NA   \n",
       "101235     weekly_zika_confirmed          MX0001          NA               NA   \n",
       "101236     weekly_zika_confirmed          MX0001          NA               NA   \n",
       "101237     weekly_zika_confirmed          MX0001          NA               NA   \n",
       "101238     weekly_zika_confirmed          MX0001          NA               NA   \n",
       "\n",
       "        value   unit  \n",
       "101281      0  cases  \n",
       "101235      0  cases  \n",
       "101236      0  cases  \n",
       "101237      0  cases  \n",
       "101238      1  cases  \n",
       "\n",
       "[5 rows x 9 columns]"
      ]
     },
     "execution_count": 5,
     "metadata": {},
     "output_type": "execute_result"
    }
   ],
   "source": [
    "import MySQLdb as mys\n",
    "import pandas as pd\n",
    "\n",
    "db = mys.connect(host='localhost', user='root', db=\"praneetha_example\")\n",
    "print \"Connected to database\"\n",
    "\n",
    "cur = db.cursor()\n",
    "\n",
    "cur.execute('SELECT * FROM zikachart')\n",
    "zdata = cur.fetchall()\n",
    "\n",
    "df = pd.DataFrame([[j for j in i] for i in zdata])\n",
    "\n",
    "headings = [h[0] for h in cur.description]\n",
    "heads = {x:headings[x] for x in xrange(len(headings))}\n",
    "df.rename(columns=heads, inplace=True)\n",
    "df = df.sort(['report_date'], ascending=[1])\n",
    "\n",
    "df.head()"
   ]
  },
  {
   "cell_type": "code",
   "execution_count": null,
   "metadata": {
    "collapsed": true
   },
   "outputs": [],
   "source": []
  },
  {
   "cell_type": "code",
   "execution_count": null,
   "metadata": {
    "collapsed": true
   },
   "outputs": [],
   "source": []
  }
 ],
 "metadata": {
  "kernelspec": {
   "display_name": "Python 2",
   "language": "python",
   "name": "python2"
  },
  "language_info": {
   "codemirror_mode": {
    "name": "ipython",
    "version": 2
   },
   "file_extension": ".py",
   "mimetype": "text/x-python",
   "name": "python",
   "nbconvert_exporter": "python",
   "pygments_lexer": "ipython2",
   "version": "2.7.9"
  }
 },
 "nbformat": 4,
 "nbformat_minor": 0
}
